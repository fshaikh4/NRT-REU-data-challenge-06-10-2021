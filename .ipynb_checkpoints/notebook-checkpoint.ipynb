{
 "cells": [
  {
   "cell_type": "code",
   "execution_count": 80,
   "metadata": {},
   "outputs": [],
   "source": [
    "import numpy as np\n",
    "import pandas as pd\n",
    "import matplotlib.pyplot as plt\n",
    "import seaborn as sns"
   ]
  },
  {
   "cell_type": "code",
   "execution_count": 230,
   "metadata": {},
   "outputs": [],
   "source": [
    "data2 = pd.read_csv('ICPSR_23782/data2', delimiter=\"\\t\")"
   ]
  },
  {
   "cell_type": "code",
   "execution_count": 236,
   "metadata": {},
   "outputs": [
    {
     "data": {
      "text/html": [
       "<div>\n",
       "<style scoped>\n",
       "    .dataframe tbody tr th:only-of-type {\n",
       "        vertical-align: middle;\n",
       "    }\n",
       "\n",
       "    .dataframe tbody tr th {\n",
       "        vertical-align: top;\n",
       "    }\n",
       "\n",
       "    .dataframe thead th {\n",
       "        text-align: right;\n",
       "    }\n",
       "</style>\n",
       "<table border=\"1\" class=\"dataframe\">\n",
       "  <thead>\n",
       "    <tr style=\"text-align: right;\">\n",
       "      <th></th>\n",
       "      <th>State</th>\n",
       "      <th>Deaths</th>\n",
       "      <th>Population</th>\n",
       "      <th>Five-Year Age Groups</th>\n",
       "    </tr>\n",
       "  </thead>\n",
       "  <tbody>\n",
       "    <tr>\n",
       "      <th>0</th>\n",
       "      <td>Connecticut</td>\n",
       "      <td>4528.0</td>\n",
       "      <td>817345</td>\n",
       "      <td>&lt; 1 year</td>\n",
       "    </tr>\n",
       "    <tr>\n",
       "      <th>1</th>\n",
       "      <td>Connecticut</td>\n",
       "      <td>585.0</td>\n",
       "      <td>3428814</td>\n",
       "      <td>1-4 years</td>\n",
       "    </tr>\n",
       "    <tr>\n",
       "      <th>2</th>\n",
       "      <td>Connecticut</td>\n",
       "      <td>454.0</td>\n",
       "      <td>4642580</td>\n",
       "      <td>5-9 years</td>\n",
       "    </tr>\n",
       "    <tr>\n",
       "      <th>3</th>\n",
       "      <td>Connecticut</td>\n",
       "      <td>541.0</td>\n",
       "      <td>4993549</td>\n",
       "      <td>10-14 years</td>\n",
       "    </tr>\n",
       "    <tr>\n",
       "      <th>4</th>\n",
       "      <td>Connecticut</td>\n",
       "      <td>151.0</td>\n",
       "      <td>5119580</td>\n",
       "      <td>15-19 years</td>\n",
       "    </tr>\n",
       "  </tbody>\n",
       "</table>\n",
       "</div>"
      ],
      "text/plain": [
       "         State  Deaths Population Five-Year Age Groups\n",
       "0  Connecticut  4528.0     817345             < 1 year\n",
       "1  Connecticut   585.0    3428814            1-4 years\n",
       "2  Connecticut   454.0    4642580            5-9 years\n",
       "3  Connecticut   541.0    4993549          10-14 years\n",
       "4  Connecticut   151.0    5119580          15-19 years"
      ]
     },
     "execution_count": 236,
     "metadata": {},
     "output_type": "execute_result"
    }
   ],
   "source": [
    "data_filtered = data2[[\"State\", \"Deaths\", \"Population\", \"Five-Year Age Groups\"]]\n",
    "data_filtered.head()"
   ]
  },
  {
   "cell_type": "code",
   "execution_count": 241,
   "metadata": {},
   "outputs": [
    {
     "data": {
      "text/plain": [
       "array(['< 1 year', '1-4 years', '5-9 years', '10-14 years', '15-19 years',\n",
       "       '20-24 years', '25-29 years', '30-34 years', '35-39 years',\n",
       "       '40-44 years', '45-49 years', '50-54 years', '55-59 years',\n",
       "       '60-64 years ', '65-69 years', '70-74 years', '75-79 years',\n",
       "       '80-84 years', '85-89 years', '90-94 years', '95-99 years',\n",
       "       '100+ years', 'Not Stated', nan], dtype=object)"
      ]
     },
     "execution_count": 241,
     "metadata": {},
     "output_type": "execute_result"
    }
   ],
   "source": [
    "data_filtered[\"Five-Year Age Groups\"].unique()"
   ]
  },
  {
   "cell_type": "code",
   "execution_count": 242,
   "metadata": {},
   "outputs": [
    {
     "data": {
      "text/plain": [
       "array(['Connecticut', 'Maine', 'Massachusetts', 'New Hampshire',\n",
       "       'Rhode Island', 'Vermont', 'New Jersey', 'New York',\n",
       "       'Pennsylvania', 'Illinois', 'Indiana', 'Michigan', 'Ohio',\n",
       "       'Wisconsin', 'Iowa', 'Kansas', 'Minnesota', 'Missouri', 'Nebraska',\n",
       "       'North Dakota', 'South Dakota', 'Delaware', 'District of Columbia',\n",
       "       'Florida', 'Georgia', 'Maryland', 'North Carolina',\n",
       "       'South Carolina', 'Virginia', 'West Virginia', 'Alabama',\n",
       "       'Kentucky', 'Mississippi', 'Tennessee', 'Arkansas', 'Louisiana',\n",
       "       'Oklahoma', 'Texas', 'Arizona', 'Colorado', 'Idaho', 'Montana',\n",
       "       'Nevada', 'New Mexico', 'Utah', 'Wyoming', 'Alaska', 'California',\n",
       "       'Hawaii', 'Oregon', 'Washington', nan], dtype=object)"
      ]
     },
     "execution_count": 242,
     "metadata": {},
     "output_type": "execute_result"
    }
   ],
   "source": [
    "data_filtered[\"State\"].unique()"
   ]
  },
  {
   "cell_type": "markdown",
   "metadata": {},
   "source": [
    "## USED PAIN KILLERS NONMEDICALLY"
   ]
  },
  {
   "cell_type": "code",
   "execution_count": null,
   "metadata": {},
   "outputs": [],
   "source": []
  }
 ],
 "metadata": {
  "kernelspec": {
   "display_name": "Python 3",
   "language": "python",
   "name": "python3"
  },
  "language_info": {
   "codemirror_mode": {
    "name": "ipython",
    "version": 3
   },
   "file_extension": ".py",
   "mimetype": "text/x-python",
   "name": "python",
   "nbconvert_exporter": "python",
   "pygments_lexer": "ipython3",
   "version": "3.8.5"
  }
 },
 "nbformat": 4,
 "nbformat_minor": 4
}
